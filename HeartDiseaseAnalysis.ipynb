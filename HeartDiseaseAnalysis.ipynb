{
 "cells": [
  {
   "cell_type": "code",
   "execution_count": 5,
   "metadata": {},
   "outputs": [
    {
     "name": "stdout",
     "output_type": "stream",
     "text": [
      "['Untitled.ipynb', 'heart.csv', '.ipynb_checkpoints']\n"
     ]
    }
   ],
   "source": [
    "import os\n",
    "import numpy as np\n",
    "import pandas as pd\n",
    "from keras.layers import Dense\n",
    "import matplotlib.pyplot as plt\n",
    "import tensorflow as tf\n",
    "from tensorflow.python.keras.models import Sequential\n",
    "from tensorflow.python.keras.layers import Dense\n",
    "from keras.optimizers import Adam\n",
    "from sklearn.model_selection import train_test_split\n",
    "from sklearn.metrics import classification_report, accuracy_score\n",
    "\n",
    "print(os.listdir(\"../HeartFailure\"))\n",
    "np.random.seed(10)"
   ]
  },
  {
   "cell_type": "code",
   "execution_count": 7,
   "metadata": {},
   "outputs": [
    {
     "name": "stdout",
     "output_type": "stream",
     "text": [
      "   age  sex  cp  trestbps  chol  fbs  restecg  thalach  exang  oldpeak  slope  \\\n",
      "0   63    1   3       145   233    1        0      150      0      2.3      0   \n",
      "1   37    1   2       130   250    0        1      187      0      3.5      0   \n",
      "2   41    0   1       130   204    0        0      172      0      1.4      2   \n",
      "\n",
      "   ca  thal  target  \n",
      "0   0     1       1  \n",
      "1   0     2       1  \n",
      "2   0     2       1  \n",
      "age           int64\n",
      "sex           int64\n",
      "cp            int64\n",
      "trestbps      int64\n",
      "chol          int64\n",
      "fbs           int64\n",
      "restecg       int64\n",
      "thalach       int64\n",
      "exang         int64\n",
      "oldpeak     float64\n",
      "slope         int64\n",
      "ca            int64\n",
      "thal          int64\n",
      "target        int64\n",
      "dtype: object\n"
     ]
    }
   ],
   "source": [
    "data = pd.read_csv(\"../HeartFailure/heart.csv\")\n",
    "print(data.head(3))\n",
    "\n",
    "print(data.dtypes)"
   ]
  },
  {
   "cell_type": "code",
   "execution_count": 8,
   "metadata": {},
   "outputs": [
    {
     "name": "stdout",
     "output_type": "stream",
     "text": [
      "Train Features Size: (242, 13)\n",
      "Test Features Size: (61, 13)\n",
      "Train Labels Size: (242,)\n",
      "Test Labels Size: (61,)\n"
     ]
    }
   ],
   "source": [
    "Y = data.target.values\n",
    "X = data.drop(['target'], axis=1)\n",
    "\n",
    "X_train, X_test, Y_train, Y_test = train_test_split(X, Y, test_size=0.2, random_state=42)\n",
    "\n",
    "print(\"Train Features Size:\", X_train.shape)\n",
    "print(\"Test Features Size:\", X_test.shape)\n",
    "print(\"Train Labels Size:\", Y_train.shape)\n",
    "print(\"Test Labels Size:\", Y_test.shape)"
   ]
  },
  {
   "cell_type": "code",
   "execution_count": 9,
   "metadata": {},
   "outputs": [],
   "source": [
    "def NN_model(learning_rate):\n",
    "    model = Sequential()\n",
    "    model.add(Dense(32, input_dim=13, kernel_initializer='normal', activation='relu'))\n",
    "    model.add(Dense(16, kernel_initializer='normal', activation='relu'))\n",
    "    model.add(Dense(2, activation='softmax'))\n",
    "    Adam(lr=learning_rate)\n",
    "    model.compile(loss='sparse_categorical_crossentropy', optimizer='Adam', metrics=['accuracy'])\n",
    "    return model"
   ]
  },
  {
   "cell_type": "code",
   "execution_count": 10,
   "metadata": {},
   "outputs": [
    {
     "name": "stdout",
     "output_type": "stream",
     "text": [
      "Model: \"sequential\"\n",
      "_________________________________________________________________\n",
      "Layer (type)                 Output Shape              Param #   \n",
      "=================================================================\n",
      "dense (Dense)                (None, 32)                448       \n",
      "_________________________________________________________________\n",
      "dense_1 (Dense)              (None, 16)                528       \n",
      "_________________________________________________________________\n",
      "dense_2 (Dense)              (None, 2)                 34        \n",
      "=================================================================\n",
      "Total params: 1,010\n",
      "Trainable params: 1,010\n",
      "Non-trainable params: 0\n",
      "_________________________________________________________________\n",
      "None\n"
     ]
    }
   ],
   "source": [
    "learning_rate = 0.01\n",
    "model = NN_model(learning_rate)\n",
    "print(model.summary())"
   ]
  },
  {
   "cell_type": "code",
   "execution_count": 11,
   "metadata": {},
   "outputs": [
    {
     "name": "stdout",
     "output_type": "stream",
     "text": [
      "Epoch 1/100\n",
      "16/16 - 0s - loss: 0.9545 - accuracy: 0.4545 - val_loss: 0.7539 - val_accuracy: 0.5410\n",
      "Epoch 2/100\n",
      "16/16 - 0s - loss: 0.7195 - accuracy: 0.5744 - val_loss: 0.6655 - val_accuracy: 0.5902\n",
      "Epoch 3/100\n",
      "16/16 - 0s - loss: 0.6436 - accuracy: 0.5992 - val_loss: 0.6086 - val_accuracy: 0.7869\n",
      "Epoch 4/100\n",
      "16/16 - 0s - loss: 0.6160 - accuracy: 0.6694 - val_loss: 0.6718 - val_accuracy: 0.5410\n",
      "Epoch 5/100\n",
      "16/16 - 0s - loss: 0.6348 - accuracy: 0.6281 - val_loss: 0.5337 - val_accuracy: 0.7869\n",
      "Epoch 6/100\n",
      "16/16 - 0s - loss: 0.5935 - accuracy: 0.6818 - val_loss: 0.5467 - val_accuracy: 0.7541\n",
      "Epoch 7/100\n",
      "16/16 - 0s - loss: 0.6090 - accuracy: 0.6570 - val_loss: 0.5134 - val_accuracy: 0.7541\n",
      "Epoch 8/100\n",
      "16/16 - 0s - loss: 0.5674 - accuracy: 0.6983 - val_loss: 0.4906 - val_accuracy: 0.8361\n",
      "Epoch 9/100\n",
      "16/16 - 0s - loss: 0.5872 - accuracy: 0.6694 - val_loss: 0.4964 - val_accuracy: 0.7869\n",
      "Epoch 10/100\n",
      "16/16 - 0s - loss: 0.5656 - accuracy: 0.6860 - val_loss: 0.4886 - val_accuracy: 0.8033\n",
      "Epoch 11/100\n",
      "16/16 - 0s - loss: 0.5562 - accuracy: 0.7066 - val_loss: 0.4665 - val_accuracy: 0.8197\n",
      "Epoch 12/100\n",
      "16/16 - 0s - loss: 0.5441 - accuracy: 0.6983 - val_loss: 0.4786 - val_accuracy: 0.8033\n",
      "Epoch 13/100\n",
      "16/16 - 0s - loss: 0.5791 - accuracy: 0.7066 - val_loss: 0.5473 - val_accuracy: 0.7213\n",
      "Epoch 14/100\n",
      "16/16 - 0s - loss: 0.5678 - accuracy: 0.6694 - val_loss: 0.5262 - val_accuracy: 0.7377\n",
      "Epoch 15/100\n",
      "16/16 - 0s - loss: 0.5500 - accuracy: 0.6901 - val_loss: 0.4626 - val_accuracy: 0.8361\n",
      "Epoch 16/100\n",
      "16/16 - 0s - loss: 0.5477 - accuracy: 0.6942 - val_loss: 0.4487 - val_accuracy: 0.8361\n",
      "Epoch 17/100\n",
      "16/16 - 0s - loss: 0.5357 - accuracy: 0.7231 - val_loss: 0.4519 - val_accuracy: 0.8197\n",
      "Epoch 18/100\n",
      "16/16 - 0s - loss: 0.5163 - accuracy: 0.7107 - val_loss: 0.4335 - val_accuracy: 0.8361\n",
      "Epoch 19/100\n",
      "16/16 - 0s - loss: 0.5114 - accuracy: 0.7521 - val_loss: 0.4290 - val_accuracy: 0.8689\n",
      "Epoch 20/100\n",
      "16/16 - 0s - loss: 0.5237 - accuracy: 0.7273 - val_loss: 0.4373 - val_accuracy: 0.8197\n",
      "Epoch 21/100\n",
      "16/16 - 0s - loss: 0.5111 - accuracy: 0.7314 - val_loss: 0.4512 - val_accuracy: 0.8525\n",
      "Epoch 22/100\n",
      "16/16 - 0s - loss: 0.5042 - accuracy: 0.7438 - val_loss: 0.4160 - val_accuracy: 0.8525\n",
      "Epoch 23/100\n",
      "16/16 - 0s - loss: 0.5159 - accuracy: 0.7397 - val_loss: 0.4302 - val_accuracy: 0.8197\n",
      "Epoch 24/100\n",
      "16/16 - 0s - loss: 0.4961 - accuracy: 0.7686 - val_loss: 0.4169 - val_accuracy: 0.8525\n",
      "Epoch 25/100\n",
      "16/16 - 0s - loss: 0.4799 - accuracy: 0.7521 - val_loss: 0.4100 - val_accuracy: 0.8525\n",
      "Epoch 26/100\n",
      "16/16 - 0s - loss: 0.4844 - accuracy: 0.7603 - val_loss: 0.4128 - val_accuracy: 0.8197\n",
      "Epoch 27/100\n",
      "16/16 - 0s - loss: 0.5203 - accuracy: 0.7231 - val_loss: 0.3964 - val_accuracy: 0.8689\n",
      "Epoch 28/100\n",
      "16/16 - 0s - loss: 0.4667 - accuracy: 0.7686 - val_loss: 0.3983 - val_accuracy: 0.8525\n",
      "Epoch 29/100\n",
      "16/16 - 0s - loss: 0.4795 - accuracy: 0.7934 - val_loss: 0.4686 - val_accuracy: 0.7869\n",
      "Epoch 30/100\n",
      "16/16 - 0s - loss: 0.4832 - accuracy: 0.7397 - val_loss: 0.4862 - val_accuracy: 0.7541\n",
      "Epoch 31/100\n",
      "16/16 - 0s - loss: 0.4734 - accuracy: 0.7562 - val_loss: 0.4642 - val_accuracy: 0.7869\n",
      "Epoch 32/100\n",
      "16/16 - 0s - loss: 0.4740 - accuracy: 0.7521 - val_loss: 0.4003 - val_accuracy: 0.8197\n",
      "Epoch 33/100\n",
      "16/16 - 0s - loss: 0.4471 - accuracy: 0.7810 - val_loss: 0.4679 - val_accuracy: 0.7869\n",
      "Epoch 34/100\n",
      "16/16 - 0s - loss: 0.5484 - accuracy: 0.7066 - val_loss: 0.3925 - val_accuracy: 0.8689\n",
      "Epoch 35/100\n",
      "16/16 - 0s - loss: 0.4675 - accuracy: 0.7479 - val_loss: 0.3761 - val_accuracy: 0.8525\n",
      "Epoch 36/100\n",
      "16/16 - 0s - loss: 0.4315 - accuracy: 0.7975 - val_loss: 0.3816 - val_accuracy: 0.8525\n",
      "Epoch 37/100\n",
      "16/16 - 0s - loss: 0.4957 - accuracy: 0.7397 - val_loss: 0.3924 - val_accuracy: 0.8525\n",
      "Epoch 38/100\n",
      "16/16 - 0s - loss: 0.4411 - accuracy: 0.8099 - val_loss: 0.4842 - val_accuracy: 0.7541\n",
      "Epoch 39/100\n",
      "16/16 - 0s - loss: 0.4596 - accuracy: 0.7645 - val_loss: 0.4992 - val_accuracy: 0.7705\n",
      "Epoch 40/100\n",
      "16/16 - 0s - loss: 0.4506 - accuracy: 0.7727 - val_loss: 0.3860 - val_accuracy: 0.8689\n",
      "Epoch 41/100\n",
      "16/16 - 0s - loss: 0.4215 - accuracy: 0.7975 - val_loss: 0.4655 - val_accuracy: 0.7869\n",
      "Epoch 42/100\n",
      "16/16 - 0s - loss: 0.4522 - accuracy: 0.7727 - val_loss: 0.4036 - val_accuracy: 0.8525\n",
      "Epoch 43/100\n",
      "16/16 - 0s - loss: 0.4160 - accuracy: 0.8058 - val_loss: 0.3731 - val_accuracy: 0.8689\n",
      "Epoch 44/100\n",
      "16/16 - 0s - loss: 0.4182 - accuracy: 0.8264 - val_loss: 0.3698 - val_accuracy: 0.8689\n",
      "Epoch 45/100\n",
      "16/16 - 0s - loss: 0.4064 - accuracy: 0.8140 - val_loss: 0.3551 - val_accuracy: 0.8689\n",
      "Epoch 46/100\n",
      "16/16 - 0s - loss: 0.4809 - accuracy: 0.7810 - val_loss: 0.4063 - val_accuracy: 0.8197\n",
      "Epoch 47/100\n",
      "16/16 - 0s - loss: 0.4547 - accuracy: 0.7851 - val_loss: 0.3829 - val_accuracy: 0.8525\n",
      "Epoch 48/100\n",
      "16/16 - 0s - loss: 0.4146 - accuracy: 0.8223 - val_loss: 0.3746 - val_accuracy: 0.8689\n",
      "Epoch 49/100\n",
      "16/16 - 0s - loss: 0.4245 - accuracy: 0.7727 - val_loss: 0.3601 - val_accuracy: 0.8689\n",
      "Epoch 50/100\n",
      "16/16 - 0s - loss: 0.5144 - accuracy: 0.7562 - val_loss: 0.3755 - val_accuracy: 0.8689\n",
      "Epoch 51/100\n",
      "16/16 - 0s - loss: 0.4455 - accuracy: 0.7521 - val_loss: 0.3794 - val_accuracy: 0.8689\n",
      "Epoch 52/100\n",
      "16/16 - 0s - loss: 0.4272 - accuracy: 0.7810 - val_loss: 0.4514 - val_accuracy: 0.8033\n",
      "Epoch 53/100\n",
      "16/16 - 0s - loss: 0.4274 - accuracy: 0.8017 - val_loss: 0.3707 - val_accuracy: 0.8689\n",
      "Epoch 54/100\n",
      "16/16 - 0s - loss: 0.3893 - accuracy: 0.8388 - val_loss: 0.3604 - val_accuracy: 0.8689\n",
      "Epoch 55/100\n",
      "16/16 - 0s - loss: 0.3875 - accuracy: 0.8347 - val_loss: 0.3634 - val_accuracy: 0.8689\n",
      "Epoch 56/100\n",
      "16/16 - 0s - loss: 0.4490 - accuracy: 0.7893 - val_loss: 0.3622 - val_accuracy: 0.8689\n",
      "Epoch 57/100\n",
      "16/16 - 0s - loss: 0.3880 - accuracy: 0.8347 - val_loss: 0.3539 - val_accuracy: 0.8689\n",
      "Epoch 58/100\n",
      "16/16 - 0s - loss: 0.3827 - accuracy: 0.8306 - val_loss: 0.3461 - val_accuracy: 0.8852\n",
      "Epoch 59/100\n",
      "16/16 - 0s - loss: 0.4039 - accuracy: 0.8140 - val_loss: 0.3647 - val_accuracy: 0.8689\n",
      "Epoch 60/100\n",
      "16/16 - 0s - loss: 0.4007 - accuracy: 0.7769 - val_loss: 0.3524 - val_accuracy: 0.8852\n",
      "Epoch 61/100\n",
      "16/16 - 0s - loss: 0.4805 - accuracy: 0.7727 - val_loss: 0.3544 - val_accuracy: 0.8852\n",
      "Epoch 62/100\n",
      "16/16 - 0s - loss: 0.3985 - accuracy: 0.8140 - val_loss: 0.3814 - val_accuracy: 0.8689\n",
      "Epoch 63/100\n",
      "16/16 - 0s - loss: 0.3834 - accuracy: 0.8347 - val_loss: 0.4255 - val_accuracy: 0.7869\n",
      "Epoch 64/100\n",
      "16/16 - 0s - loss: 0.3793 - accuracy: 0.8347 - val_loss: 0.3484 - val_accuracy: 0.8852\n",
      "Epoch 65/100\n",
      "16/16 - 0s - loss: 0.3810 - accuracy: 0.8430 - val_loss: 0.3741 - val_accuracy: 0.8525\n",
      "Epoch 66/100\n",
      "16/16 - 0s - loss: 0.3754 - accuracy: 0.8595 - val_loss: 0.3651 - val_accuracy: 0.8852\n",
      "Epoch 67/100\n",
      "16/16 - 0s - loss: 0.3740 - accuracy: 0.8264 - val_loss: 0.3492 - val_accuracy: 0.8689\n",
      "Epoch 68/100\n",
      "16/16 - 0s - loss: 0.4141 - accuracy: 0.7934 - val_loss: 0.3530 - val_accuracy: 0.8689\n",
      "Epoch 69/100\n",
      "16/16 - 0s - loss: 0.3913 - accuracy: 0.8347 - val_loss: 0.3475 - val_accuracy: 0.8852\n",
      "Epoch 70/100\n",
      "16/16 - 0s - loss: 0.3904 - accuracy: 0.8306 - val_loss: 0.3754 - val_accuracy: 0.8689\n",
      "Epoch 71/100\n",
      "16/16 - 0s - loss: 0.4164 - accuracy: 0.7975 - val_loss: 0.3480 - val_accuracy: 0.8852\n",
      "Epoch 72/100\n",
      "16/16 - 0s - loss: 0.4360 - accuracy: 0.7934 - val_loss: 0.3652 - val_accuracy: 0.8852\n",
      "Epoch 73/100\n",
      "16/16 - 0s - loss: 0.3675 - accuracy: 0.8512 - val_loss: 0.3545 - val_accuracy: 0.8689\n",
      "Epoch 74/100\n",
      "16/16 - 0s - loss: 0.3755 - accuracy: 0.8595 - val_loss: 0.3785 - val_accuracy: 0.8689\n",
      "Epoch 75/100\n",
      "16/16 - 0s - loss: 0.3768 - accuracy: 0.8388 - val_loss: 0.6392 - val_accuracy: 0.7377\n",
      "Epoch 76/100\n",
      "16/16 - 0s - loss: 0.4784 - accuracy: 0.7851 - val_loss: 0.4232 - val_accuracy: 0.7869\n",
      "Epoch 77/100\n",
      "16/16 - 0s - loss: 0.5430 - accuracy: 0.7314 - val_loss: 0.4440 - val_accuracy: 0.7705\n",
      "Epoch 78/100\n",
      "16/16 - 0s - loss: 0.4201 - accuracy: 0.8099 - val_loss: 0.3830 - val_accuracy: 0.8525\n",
      "Epoch 79/100\n",
      "16/16 - 0s - loss: 0.4002 - accuracy: 0.8182 - val_loss: 0.3532 - val_accuracy: 0.8852\n",
      "Epoch 80/100\n",
      "16/16 - 0s - loss: 0.3771 - accuracy: 0.8388 - val_loss: 0.3555 - val_accuracy: 0.8852\n",
      "Epoch 81/100\n",
      "16/16 - 0s - loss: 0.4128 - accuracy: 0.8017 - val_loss: 0.3478 - val_accuracy: 0.8852\n",
      "Epoch 82/100\n",
      "16/16 - 0s - loss: 0.3797 - accuracy: 0.8471 - val_loss: 0.3511 - val_accuracy: 0.8852\n",
      "Epoch 83/100\n"
     ]
    },
    {
     "name": "stdout",
     "output_type": "stream",
     "text": [
      "16/16 - 0s - loss: 0.3989 - accuracy: 0.8388 - val_loss: 0.4168 - val_accuracy: 0.8197\n",
      "Epoch 84/100\n",
      "16/16 - 0s - loss: 0.3922 - accuracy: 0.8182 - val_loss: 0.4143 - val_accuracy: 0.8197\n",
      "Epoch 85/100\n",
      "16/16 - 0s - loss: 0.3899 - accuracy: 0.8182 - val_loss: 0.3985 - val_accuracy: 0.8361\n",
      "Epoch 86/100\n",
      "16/16 - 0s - loss: 0.3731 - accuracy: 0.8347 - val_loss: 0.3552 - val_accuracy: 0.8852\n",
      "Epoch 87/100\n",
      "16/16 - 0s - loss: 0.3758 - accuracy: 0.8099 - val_loss: 0.3779 - val_accuracy: 0.8525\n",
      "Epoch 88/100\n",
      "16/16 - 0s - loss: 0.3750 - accuracy: 0.8471 - val_loss: 0.4038 - val_accuracy: 0.8361\n",
      "Epoch 89/100\n",
      "16/16 - 0s - loss: 0.3783 - accuracy: 0.8471 - val_loss: 0.3621 - val_accuracy: 0.8852\n",
      "Epoch 90/100\n",
      "16/16 - 0s - loss: 0.4176 - accuracy: 0.7893 - val_loss: 0.4255 - val_accuracy: 0.8197\n",
      "Epoch 91/100\n",
      "16/16 - 0s - loss: 0.3744 - accuracy: 0.8512 - val_loss: 0.3966 - val_accuracy: 0.8689\n",
      "Epoch 92/100\n",
      "16/16 - 0s - loss: 0.3757 - accuracy: 0.8388 - val_loss: 0.4454 - val_accuracy: 0.8033\n",
      "Epoch 93/100\n",
      "16/16 - 0s - loss: 0.3799 - accuracy: 0.8140 - val_loss: 0.3695 - val_accuracy: 0.8852\n",
      "Epoch 94/100\n",
      "16/16 - 0s - loss: 0.3681 - accuracy: 0.8430 - val_loss: 0.4862 - val_accuracy: 0.7705\n",
      "Epoch 95/100\n",
      "16/16 - 0s - loss: 0.3684 - accuracy: 0.8512 - val_loss: 0.3856 - val_accuracy: 0.8852\n",
      "Epoch 96/100\n",
      "16/16 - 0s - loss: 0.3586 - accuracy: 0.8554 - val_loss: 0.3615 - val_accuracy: 0.8852\n",
      "Epoch 97/100\n",
      "16/16 - 0s - loss: 0.3560 - accuracy: 0.8595 - val_loss: 0.4712 - val_accuracy: 0.8033\n",
      "Epoch 98/100\n",
      "16/16 - 0s - loss: 0.4860 - accuracy: 0.7562 - val_loss: 0.4646 - val_accuracy: 0.7869\n",
      "Epoch 99/100\n",
      "16/16 - 0s - loss: 0.4114 - accuracy: 0.8306 - val_loss: 0.3725 - val_accuracy: 0.8852\n",
      "Epoch 100/100\n",
      "16/16 - 0s - loss: 0.3850 - accuracy: 0.8306 - val_loss: 0.3612 - val_accuracy: 0.8852\n"
     ]
    }
   ],
   "source": [
    "history = model.fit(X_train, Y_train, validation_data=(X_test, Y_test), epochs=100, batch_size=16, verbose=2)"
   ]
  },
  {
   "cell_type": "code",
   "execution_count": 13,
   "metadata": {},
   "outputs": [
    {
     "data": {
      "image/png": "[encoded data removed]",
      "text/plain": [
       "<Figure size 432x288 with 1 Axes>"
      ]
     },
     "metadata": {
      "needs_background": "light"
     },
     "output_type": "display_data"
    },
    {
     "data": {
      "image/png": "[encoded data removed]",
      "text/plain": [
       "<Figure size 432x288 with 1 Axes>"
      ]
     },
     "metadata": {
      "needs_background": "light"
     },
     "output_type": "display_data"
    }
   ],
   "source": [
    "plt.plot(history.history['accuracy'])\n",
    "plt.plot(history.history['val_accuracy'])\n",
    "plt.title('Model Accuracy')\n",
    "plt.ylabel('Accuracy')\n",
    "plt.xlabel('Epochs')\n",
    "plt.legend(['Train', 'Test'])\n",
    "plt.show()\n",
    "\n",
    "plt.plot(history.history['loss'])\n",
    "plt.plot(history.history['val_loss'])\n",
    "plt.title('Model Loss')\n",
    "plt.ylabel('Loss')\n",
    "plt.xlabel('Epochs')\n",
    "plt.legend(['Train', 'Test'])\n",
    "plt.show()"
   ]
  },
  {
   "cell_type": "code",
   "execution_count": 14,
   "metadata": {},
   "outputs": [
    {
     "name": "stdout",
     "output_type": "stream",
     "text": [
      "Model Accracy: 88.52459016393442 %\n",
      "              precision    recall  f1-score   support\n",
      "\n",
      "           0       0.89      0.86      0.88        29\n",
      "           1       0.88      0.91      0.89        32\n",
      "\n",
      "    accuracy                           0.89        61\n",
      "   macro avg       0.89      0.88      0.88        61\n",
      "weighted avg       0.89      0.89      0.89        61\n",
      "\n"
     ]
    }
   ],
   "source": [
    "predictions = np.argmax(model.predict(X_test), axis=1)\n",
    "model_accuracy = accuracy_score(Y_test, predictions)*100\n",
    "print(\"Model Accracy:\", model_accuracy,\"%\")\n",
    "print(classification_report(Y_test, predictions))"
   ]
  },
  {
   "cell_type": "code",
   "execution_count": null,
   "metadata": {},
   "outputs": [],
   "source": []
  }
 ],
 "metadata": {
  "kernelspec": {
   "display_name": "Python 3",
   "language": "python",
   "name": "python3"
  },
  "language_info": {
   "codemirror_mode": {
    "name": "ipython",
    "version": 3
   },
   "file_extension": ".py",
   "mimetype": "text/x-python",
   "name": "python",
   "nbconvert_exporter": "python",
   "pygments_lexer": "ipython3",
   "version": "3.8.3"
  }
 },
 "nbformat": 4,
 "nbformat_minor": 4
}
